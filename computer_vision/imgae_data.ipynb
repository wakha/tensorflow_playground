{
 "cells": [
  {
   "cell_type": "markdown",
   "id": "fce7ad37",
   "metadata": {},
   "source": [
    "# Introduction to image data\n",
    "\n",
    "In computer vision, we normally solve one of the following problems:\n",
    "\n",
    "* **Image Classification** is the simplest task, when we need to classify an image into one of many pre-defined categories, for example, distinguish a cat from a dog on a photograph, or recognize a handwritten digit.\n",
    "\n",
    "* **Object Detection** is a bit more difficult task, in which we need to find known objects on the picture and localize them, i.e. return the **bounding box** for each of recognized objects.\n",
    "\n",
    "* **Segmentation** is similar to object detection, but instead of giving bounding box we need to return an exact pixel map outlining each of the recognized objects.  \n",
    "\n",
    "![An image showing how computer vision object detection can be performed with cats, dogs, and ducks.](https://i.stack.imgur.com/mFBCV.png)\n",
    "\n",
    "Image taken from [CS224d Stanford Course](https://cs224d.stanford.edu/index.html)\n",
    "\n",
    "## Images as Tensors\n",
    "\n",
    "Computer Vision works with Images. As you probably know, images consist of pixels, so they can be thought of as a rectangular collection (array) of pixels.\n",
    "\n",
    "In the first part of this tutorial, we will deal with handwritten digit recognition. We will use the MNIST dataset, which consists of grayscale images of handwritten digits, 28x28 pixels. Each image can be represented as 28x28 array, and elements of this array would denote intensity of corresponding pixel - either in the scale of range 0 to 1 (in which case floating point numbers are used), or 0 to 255 (integers). A popular python library called `numpy` is often used with computer vision tasks, because it allows to operate with multidimensional arrays effectively.\n",
    "\n",
    "To deal with color images, we need some way to represent colors. In most cases, we represent each pixel by 3 intensity values, corresponding to Red (R), Green (G) and Blue (B) components. This color encoding is called RGB, and thus color image of size $W\\times H$ will be represented as an array of size $H\\times W\\times 3$ (sometimes the order of components might be different, but the idea is the same).\n",
    "\n",
    "Multi-dimensional arrays are also called **tensors**. Using tensors to represent images also has an advantage, because we can use an extra dimension to store a sequence of images. For example, to represent a video fragment consisting of 200 frames with 800x600 dimension, we may use the tensor of size 200x600x800x3.\n",
    "\n",
    "## TensorFlow and Keras versions\n"
   ]
  },
  {
   "cell_type": "code",
   "execution_count": 1,
   "id": "91e9aa21",
   "metadata": {},
   "outputs": [
    {
     "name": "stdout",
     "output_type": "stream",
     "text": [
      "2.20.0\n"
     ]
    }
   ],
   "source": [
    "#Import the packages needed.\n",
    "import tensorflow as tf\n",
    "from tensorflow import keras\n",
    "import matplotlib.pyplot as plt\n",
    "import numpy as np\n",
    "import os\n",
    "\n",
    "# In this tutorial, we will be training a lot of models. In order to use GPU memory cautiously,\n",
    "# we will set tensorflow option to grow GPU memory allocation when required.\n",
    "physical_devices = tf.config.list_physical_devices('GPU') \n",
    "if len(physical_devices)>0:\n",
    "    tf.config.experimental.set_memory_growth(physical_devices[0], True)\n",
    "\n",
    "print(tf.__version__)"
   ]
  },
  {
   "cell_type": "markdown",
   "id": "1bd3e941",
   "metadata": {},
   "source": [
    "TensorFlow is now at version 2, and it differs significantly between versions 1 and 2. Thus it is important to check that we have correct version, otherwise the code is likely not to work.\n",
    "\n",
    "In version 2 TensorFlow added a higher-level neural network construction API called [**Keras**](http://keras.io). With Keras, most model building steps can be done in a much simpler way. This has made Keras a preferred way to start training deep learning networks. Only switching to pure TensorFlow when you need to develop some custom architectures for research or more complex scenarios. Since Keras is part of TensorFlow, the terms are used interchangeably and many times when someone says TensorFlow they are actually talking about the Keras.\n",
    "\n",
    "In this tutorial, we will focused on developing neural networks using **Keras** in **TensorFlow 2**.\n",
    "\n",
    "## Loading the MNIST Dataset\n",
    "\n",
    "Keras has a [number of datasets](https://www.TensorFlow.org/api_docs/python/tf/keras/datasets) available right from the library. Here we are using the well-known [MNIST](http://yann.lecun.com/exdb/mnist/) dataset of handwritten digits, available through `tf.keras.datasets.mnist`. It has a function `load_data()` that returns train and test MNIST datasets.\n",
    "\n",
    "When using your own notebooks, you can experiment with the other built in datasets, in particular [FashionMNIST](https://www.TensorFlow.org/api_docs/python/tf/keras/datasets/fashion_mnist). It has exactly the same shape as MNIST, but contains outlines of different clothing types. You should be able to experiment with FashionMNIST by simply replacing the dataset name below.\n",
    "\n",
    "> **Note**: When running this sample code locally, data would automatically be downloaded, you can just call `load_data()` without parameters. For the sandbox environment, we need to pre-fetch the data locally in advance, before calling `load_data`. If you are running on a local notebook, you can ignore the next cell:"
   ]
  },
  {
   "cell_type": "code",
   "execution_count": 3,
   "id": "5e2ee664",
   "metadata": {},
   "outputs": [
    {
     "name": "stderr",
     "output_type": "stream",
     "text": [
      "The syntax of the command is incorrect.\n",
      "'wget' is not recognized as an internal or external command,\n",
      "operable program or batch file.\n"
     ]
    }
   ],
   "source": [
    "# Pre-fetch the data for the Learn Module\n",
    "!mkdir -p ~/.keras/datasets\n",
    "!wget -P ~/.keras/datasets -q https://github.com/MicrosoftDocs/tensorflowfundamentals/raw/main/data/mnist.npz"
   ]
  },
  {
   "cell_type": "code",
   "execution_count": 4,
   "id": "0b91a759",
   "metadata": {},
   "outputs": [
    {
     "name": "stdout",
     "output_type": "stream",
     "text": [
      "Downloading data from https://storage.googleapis.com/tensorflow/tf-keras-datasets/mnist.npz\n",
      "\u001b[1m11490434/11490434\u001b[0m \u001b[32m━━━━━━━━━━━━━━━━━━━━\u001b[0m\u001b[37m\u001b[0m \u001b[1m2s\u001b[0m 0us/step\n",
      "(60000, 28, 28) (60000,)\n",
      "(10000, 28, 28) (10000,)\n"
     ]
    }
   ],
   "source": [
    "(x_train,y_train),(x_test,y_test) = keras.datasets.mnist.load_data()\n",
    "\n",
    "print(x_train.shape, y_train.shape)\n",
    "print(x_test.shape,y_test.shape)"
   ]
  },
  {
   "cell_type": "code",
   "execution_count": 5,
   "id": "22714414",
   "metadata": {},
   "outputs": [
    {
     "data": {
      "image/png": "[encoded data removed]",
      "text/plain": [
       "<Figure size 640x480 with 7 Axes>"
      ]
     },
     "metadata": {},
     "output_type": "display_data"
    }
   ],
   "source": [
    "fig,ax = plt.subplots(1,7)\n",
    "for i in range(7):\n",
    "    ax[i].imshow(x_train[i])\n",
    "    ax[i].set_title(y_train[i])\n",
    "    ax[i].axis('off')"
   ]
  },
  {
   "cell_type": "code",
   "execution_count": 6,
   "id": "b4af5db5",
   "metadata": {},
   "outputs": [
    {
     "name": "stdout",
     "output_type": "stream",
     "text": [
      "Training samples: 60000\n",
      "Test samples: 10000\n",
      "Tensor size: (28, 28)\n",
      "First 10 digits are: [5 0 4 1 9 2 1 3 1 4]\n",
      "Type of data is  <class 'numpy.ndarray'>\n"
     ]
    }
   ],
   "source": [
    "print('Training samples:',len(x_train))\n",
    "print('Test samples:',len(x_test))\n",
    "\n",
    "print('Tensor size:',x_train[0].shape)\n",
    "print('First 10 digits are:', y_train[:10])\n",
    "print('Type of data is ',type(x_train))"
   ]
  },
  {
   "cell_type": "markdown",
   "id": "72af9d31",
   "metadata": {},
   "source": [
    "As you can see, the type of data is numpy array, which allows us to manipulate it using any numpy operations. All pixels of the images are represented by integer numbers from 0 to 255:"
   ]
  },
  {
   "cell_type": "code",
   "execution_count": 7,
   "id": "64ce7951",
   "metadata": {},
   "outputs": [
    {
     "name": "stdout",
     "output_type": "stream",
     "text": [
      "Min intensity value:  0\n",
      "Max intensity value:  255\n"
     ]
    }
   ],
   "source": [
    "print('Min intensity value: ',x_train.min())\n",
    "print('Max intensity value: ',x_train.max())"
   ]
  },
  {
   "cell_type": "markdown",
   "id": "672bce95",
   "metadata": {},
   "source": [
    "The reason it is between 0 and 255 is because of how color is represented in a binary format. RGB (red, green, blue) are each represented as a 0-255 value to create digital colors.  If we load any image from file using [OpenCV](https://opencv.org/) or [PIL](https://pillow.readthedocs.io/en/stable/) you will end up having numpy array with pixel intensities in the same range [0..255].\n",
    "\n",
    "> Note: If you are loading color image, the shape of the array would be slightly different, each pixel contains 3 color values (R,G and B). Thus the image 300x300 pixels will be represented by 300x300x3 numpy array.\n",
    "\n",
    "If we want to feed our images to the neural network, it is important to make sure that all values are scaled to the range [**0 - 1**] before we start training. So, we will rescale the dataset in order to have all values in the required normalized range:"
   ]
  },
  {
   "cell_type": "code",
   "execution_count": 8,
   "id": "a1f5be97",
   "metadata": {},
   "outputs": [],
   "source": [
    "x_train = x_train.astype(np.float32)/255.0\n",
    "x_test = x_test.astype(np.float32)/255.0"
   ]
  }
 ],
 "metadata": {
  "kernelspec": {
   "display_name": "Python 3",
   "language": "python",
   "name": "python3"
  },
  "language_info": {
   "codemirror_mode": {
    "name": "ipython",
    "version": 3
   },
   "file_extension": ".py",
   "mimetype": "text/x-python",
   "name": "python",
   "nbconvert_exporter": "python",
   "pygments_lexer": "ipython3",
   "version": "3.12.0"
  }
 },
 "nbformat": 4,
 "nbformat_minor": 5
}
